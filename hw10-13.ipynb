{
 "cells": [
  {
   "cell_type": "code",
   "execution_count": 1,
   "id": "1b02f7ce",
   "metadata": {
    "execution": {
     "iopub.execute_input": "2021-12-22T17:09:55.296283Z",
     "iopub.status.busy": "2021-12-22T17:09:55.294805Z",
     "iopub.status.idle": "2021-12-22T17:09:57.537725Z",
     "shell.execute_reply": "2021-12-22T17:09:57.538283Z",
     "shell.execute_reply.started": "2021-12-22T14:08:27.467279Z"
    },
    "papermill": {
     "duration": 2.255565,
     "end_time": "2021-12-22T17:09:57.538579",
     "exception": false,
     "start_time": "2021-12-22T17:09:55.283014",
     "status": "completed"
    },
    "tags": []
   },
   "outputs": [],
   "source": [
    "import cupy as cp\n",
    "import numpy as np\n",
    "import matplotlib.pyplot as plt"
   ]
  },
  {
   "cell_type": "markdown",
   "id": "292fc944",
   "metadata": {
    "papermill": {
     "duration": 0.007482,
     "end_time": "2021-12-22T17:09:57.554850",
     "exception": false,
     "start_time": "2021-12-22T17:09:57.547368",
     "status": "completed"
    },
    "tags": []
   },
   "source": [
    "# Task 10. Saxpy\n",
    "By using `CuPy`, implement `SAXPY` function. The function is described in the picture."
   ]
  },
  {
   "cell_type": "markdown",
   "id": "23dda02d",
   "metadata": {
    "papermill": {
     "duration": 0.007768,
     "end_time": "2021-12-22T17:09:57.569990",
     "exception": false,
     "start_time": "2021-12-22T17:09:57.562222",
     "status": "completed"
    },
    "tags": []
   },
   "source": [
    "### 10.1 \n",
    "**Q1 Difference between CuPy and NumPy**\n",
    "\n",
    "NumPy is designed to run on CPU so the parallelization capabilities are limited by the number of available CPU cores. CuPy is the implementation of Numpy adapted to be run on GPU through the CUDA library. Therefore, the usage of CuPy allows achieving a superior speed-up utilizing GPU resources.\n",
    "\n",
    "**Q2 How does CuPy handles data transfer between CPU and GPU**\n",
    "\n",
    "CuPy uses memory pool for memory allocations by default. For the purposes of CPU-to-GPU data transfer CuPy used pinned memory pool (non-swappable CPU memory). The memory pool significantly improves the performance by mitigating the overhead of memory allocation and CPU/GPU synchronization.\n",
    "\n"
   ]
  },
  {
   "cell_type": "markdown",
   "id": "f4b6fcf1",
   "metadata": {
    "papermill": {
     "duration": 0.00707,
     "end_time": "2021-12-22T17:09:57.584887",
     "exception": false,
     "start_time": "2021-12-22T17:09:57.577817",
     "status": "completed"
    },
    "tags": []
   },
   "source": [
    "### 10.2 SAXPY implementation"
   ]
  },
  {
   "cell_type": "code",
   "execution_count": 2,
   "id": "0c9554e1",
   "metadata": {
    "execution": {
     "iopub.execute_input": "2021-12-22T17:09:57.605932Z",
     "iopub.status.busy": "2021-12-22T17:09:57.604989Z",
     "iopub.status.idle": "2021-12-22T17:09:57.607008Z",
     "shell.execute_reply": "2021-12-22T17:09:57.607458Z",
     "shell.execute_reply.started": "2021-12-22T14:07:03.314286Z"
    },
    "papermill": {
     "duration": 0.01547,
     "end_time": "2021-12-22T17:09:57.607680",
     "exception": false,
     "start_time": "2021-12-22T17:09:57.592210",
     "status": "completed"
    },
    "tags": []
   },
   "outputs": [],
   "source": [
    "def saxpy(x: cp.array, y: cp.array, a: float) -> cp.array:\n",
    "    assert x.shape[0] == y.shape[0], 'x and y should be the same lenth!'\n",
    "    return a * x + y"
   ]
  },
  {
   "cell_type": "markdown",
   "id": "f59cdc2a",
   "metadata": {
    "papermill": {
     "duration": 0.007241,
     "end_time": "2021-12-22T17:09:57.622213",
     "exception": false,
     "start_time": "2021-12-22T17:09:57.614972",
     "status": "completed"
    },
    "tags": []
   },
   "source": [
    "### 10.3 NumPy vs CuPy profiling"
   ]
  },
  {
   "cell_type": "code",
   "execution_count": 3,
   "id": "008c1a78",
   "metadata": {
    "execution": {
     "iopub.execute_input": "2021-12-22T17:09:57.645748Z",
     "iopub.status.busy": "2021-12-22T17:09:57.644211Z",
     "iopub.status.idle": "2021-12-22T17:10:25.590663Z",
     "shell.execute_reply": "2021-12-22T17:10:25.591629Z",
     "shell.execute_reply.started": "2021-12-22T14:18:20.967879Z"
    },
    "papermill": {
     "duration": 27.962274,
     "end_time": "2021-12-22T17:10:25.591871",
     "exception": false,
     "start_time": "2021-12-22T17:09:57.629597",
     "status": "completed"
    },
    "tags": []
   },
   "outputs": [
    {
     "name": "stdout",
     "output_type": "stream",
     "text": [
      "The slowest run took 152.18 times longer than the fastest. This could mean that an intermediate result is being cached.\n",
      "763 µs ± 1.78 ms per loop (mean ± std. dev. of 7 runs, 100 loops each)\n",
      "4.3 µs ± 238 ns per loop (mean ± std. dev. of 7 runs, 100 loops each)\n",
      "34.9 µs ± 1.24 µs per loop (mean ± std. dev. of 7 runs, 100 loops each)\n",
      "11.8 µs ± 946 ns per loop (mean ± std. dev. of 7 runs, 100 loops each)\n",
      "34.9 µs ± 1.59 µs per loop (mean ± std. dev. of 7 runs, 100 loops each)\n",
      "146 µs ± 6.35 µs per loop (mean ± std. dev. of 7 runs, 100 loops each)\n",
      "38.3 µs ± 5.06 µs per loop (mean ± std. dev. of 7 runs, 100 loops each)\n",
      "1.28 ms ± 37 µs per loop (mean ± std. dev. of 7 runs, 100 loops each)\n",
      "The slowest run took 23.32 times longer than the fastest. This could mean that an intermediate result is being cached.\n",
      "198 µs ± 268 µs per loop (mean ± std. dev. of 7 runs, 100 loops each)\n",
      "35.5 ms ± 667 µs per loop (mean ± std. dev. of 7 runs, 100 loops each)\n"
     ]
    }
   ],
   "source": [
    "out_cupy, out_numpy = [], []\n",
    "alpha : float = 5\n",
    "for n in range(3, 8):\n",
    "    size : int = 10**n\n",
    "    arr_cupy, arr_numpy  = cp.random.random(size), np.random.random(size)\n",
    "    \n",
    "    res_cupy  = %timeit -n 100 -o saxpy(arr_cupy, arr_cupy, alpha)\n",
    "    res_numpy = %timeit -n 100 -o saxpy(arr_numpy, arr_numpy, alpha)\n",
    "    \n",
    "    out_cupy.append((size, res_cupy.average, res_cupy.stdev))\n",
    "    out_numpy.append((size, res_numpy.average, res_numpy.stdev))"
   ]
  },
  {
   "cell_type": "code",
   "execution_count": 4,
   "id": "6345fb80",
   "metadata": {
    "execution": {
     "iopub.execute_input": "2021-12-22T17:10:25.614538Z",
     "iopub.status.busy": "2021-12-22T17:10:25.614036Z",
     "iopub.status.idle": "2021-12-22T17:10:25.617601Z",
     "shell.execute_reply": "2021-12-22T17:10:25.617176Z",
     "shell.execute_reply.started": "2021-12-22T14:23:34.074279Z"
    },
    "papermill": {
     "duration": 0.016263,
     "end_time": "2021-12-22T17:10:25.617711",
     "exception": false,
     "start_time": "2021-12-22T17:10:25.601448",
     "status": "completed"
    },
    "tags": []
   },
   "outputs": [],
   "source": [
    "out_cupy, out_numpy= np.array(out_cupy), np.array(out_numpy)\n",
    "arr_size, time_cupy, std_cupy  = out_cupy[:,0], out_cupy[:,1], out_cupy[:,2]\n",
    "time_numpy, std_numpy = out_numpy[:,1], out_numpy[:,2]"
   ]
  },
  {
   "cell_type": "code",
   "execution_count": 5,
   "id": "91f61a0a",
   "metadata": {
    "execution": {
     "iopub.execute_input": "2021-12-22T17:10:25.645391Z",
     "iopub.status.busy": "2021-12-22T17:10:25.644483Z",
     "iopub.status.idle": "2021-12-22T17:10:26.439214Z",
     "shell.execute_reply": "2021-12-22T17:10:26.439712Z",
     "shell.execute_reply.started": "2021-12-22T14:23:34.261947Z"
    },
    "papermill": {
     "duration": 0.814153,
     "end_time": "2021-12-22T17:10:26.439902",
     "exception": false,
     "start_time": "2021-12-22T17:10:25.625749",
     "status": "completed"
    },
    "tags": []
   },
   "outputs": [
    {
     "data": {
      "image/png": "[encoded data removed]",
      "text/plain": [
       "<Figure size 1200x600 with 1 Axes>"
      ]
     },
     "metadata": {
      "needs_background": "light"
     },
     "output_type": "display_data"
    }
   ],
   "source": [
    "fig, ax = plt.subplots(figsize=(8,4), dpi=150)\n",
    "ax.plot(arr_size, time_cupy, '-o', label='CuPy')\n",
    "ax.plot(arr_size, time_numpy, '-v', label='NumPy')\n",
    "ax.set_xticks(arr_size)\n",
    "ax.grid(alpha=.4)\n",
    "ax.set_xscale('log',base=10)\n",
    "ax.set_yscale('log',base=2)\n",
    "ax.set_xlabel('Array size')\n",
    "ax.set_ylabel('Computation time, ms')\n",
    "plt.legend()\n",
    "plt.title('Saxpy function')\n",
    "plt.show()"
   ]
  },
  {
   "cell_type": "markdown",
   "id": "8bbadc2c",
   "metadata": {
    "papermill": {
     "duration": 0.010663,
     "end_time": "2021-12-22T17:10:26.460881",
     "exception": false,
     "start_time": "2021-12-22T17:10:26.450218",
     "status": "completed"
    },
    "tags": []
   },
   "source": [
    "# Task 11. CuPy-based Bifurcation map\n",
    "\n",
    "By using **CuPy**, reimplement bifurcation map (Task 1)."
   ]
  },
  {
   "cell_type": "code",
   "execution_count": null,
   "id": "4c474fef",
   "metadata": {
    "papermill": {
     "duration": 0.011453,
     "end_time": "2021-12-22T17:10:26.483552",
     "exception": false,
     "start_time": "2021-12-22T17:10:26.472099",
     "status": "completed"
    },
    "tags": []
   },
   "outputs": [],
   "source": []
  }
 ],
 "metadata": {
  "kernelspec": {
   "display_name": "Python 3",
   "language": "python",
   "name": "python3"
  },
  "language_info": {
   "codemirror_mode": {
    "name": "ipython",
    "version": 3
   },
   "file_extension": ".py",
   "mimetype": "text/x-python",
   "name": "python",
   "nbconvert_exporter": "python",
   "pygments_lexer": "ipython3",
   "version": "3.7.12"
  },
  "papermill": {
   "default_parameters": {},
   "duration": 40.142608,
   "end_time": "2021-12-22T17:10:27.402206",
   "environment_variables": {},
   "exception": null,
   "input_path": "__notebook__.ipynb",
   "output_path": "__notebook__.ipynb",
   "parameters": {},
   "start_time": "2021-12-22T17:09:47.259598",
   "version": "2.3.3"
  }
 },
 "nbformat": 4,
 "nbformat_minor": 5
}
