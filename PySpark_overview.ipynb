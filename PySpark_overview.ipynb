{
 "cells": [
  {
   "cell_type": "code",
   "execution_count": 45,
   "metadata": {},
   "outputs": [
    {
     "name": "stdout",
     "output_type": "stream",
     "text": [
      "Requirement already satisfied: pyspark in /Users/dmitry.volkov/.pyenv/versions/3.10.0/lib/python3.10/site-packages (3.2.0)\r\n",
      "Requirement already satisfied: py4j==0.10.9.2 in /Users/dmitry.volkov/.pyenv/versions/3.10.0/lib/python3.10/site-packages (from pyspark) (0.10.9.2)\r\n"
     ]
    }
   ],
   "source": [
    "!pip install pyspark"
   ]
  },
  {
   "cell_type": "markdown",
   "metadata": {
    "pycharm": {
     "name": "#%% md\n"
    }
   },
   "source": [
    "# 0. Initialize Session"
   ]
  },
  {
   "cell_type": "code",
   "execution_count": 46,
   "metadata": {},
   "outputs": [],
   "source": [
    "from pyspark.sql import SparkSession\n",
    "\n",
    "appName = \"Syntax Overview\"\n",
    "master = \"local[*]\"\n",
    "\n",
    "spark = SparkSession.builder.master(master).appName(appName).getOrCreate()"
   ]
  },
  {
   "cell_type": "code",
   "execution_count": 47,
   "metadata": {
    "pycharm": {
     "name": "#%%\n"
    }
   },
   "outputs": [
    {
     "data": {
      "text/plain": "<pyspark.sql.session.SparkSession at 0x11a709510>",
      "text/html": "\n            <div>\n                <p><b>SparkSession - in-memory</b></p>\n                \n        <div>\n            <p><b>SparkContext</b></p>\n\n            <p><a href=\"http://10.16.104.9:4040\">Spark UI</a></p>\n\n            <dl>\n              <dt>Version</dt>\n                <dd><code>v3.2.0</code></dd>\n              <dt>Master</dt>\n                <dd><code>local[*]</code></dd>\n              <dt>AppName</dt>\n                <dd><code>Syntax Overview</code></dd>\n            </dl>\n        </div>\n        \n            </div>\n        "
     },
     "execution_count": 47,
     "metadata": {},
     "output_type": "execute_result"
    }
   ],
   "source": [
    "spark"
   ]
  },
  {
   "cell_type": "markdown",
   "metadata": {},
   "source": [
    "# 1. Reading Data\n",
    "## Used Cars sales"
   ]
  },
  {
   "cell_type": "markdown",
   "source": [
    "<img src=\"cars.jpg\" width=1256 height=353 />"
   ],
   "metadata": {
    "collapsed": false,
    "pycharm": {
     "name": "#%% md\n"
    }
   }
  },
  {
   "cell_type": "code",
   "execution_count": 48,
   "metadata": {
    "pycharm": {
     "name": "#%%\n"
    },
    "scrolled": true
   },
   "outputs": [],
   "source": [
    "df_cars = spark.read.csv('cars.csv', header=True)"
   ]
  },
  {
   "cell_type": "markdown",
   "metadata": {},
   "source": [
    "# 2. Methods to Inspect Data\n",
    "1. `.printSchema()`\n",
    "2. `.explain()`\n",
    "3. `.dtypes`\n",
    "4. `.head(n)`\n",
    "5. `.show(n)`\n",
    "6. `.select()`\n",
    "7. `.describe()`"
   ]
  },
  {
   "cell_type": "markdown",
   "metadata": {},
   "source": [
    "### .printSchema()\n",
    "Pay attention to data types!"
   ]
  },
  {
   "cell_type": "code",
   "execution_count": 49,
   "metadata": {
    "pycharm": {
     "name": "#%%\n"
    },
    "scrolled": true
   },
   "outputs": [
    {
     "name": "stdout",
     "output_type": "stream",
     "text": [
      "root\n",
      " |-- manufacturer_name: string (nullable = true)\n",
      " |-- model_name: string (nullable = true)\n",
      " |-- transmission: string (nullable = true)\n",
      " |-- odometer_value: string (nullable = true)\n",
      " |-- year_produced: string (nullable = true)\n",
      " |-- engine_capacity: string (nullable = true)\n",
      " |-- body_type: string (nullable = true)\n",
      " |-- price_usd: string (nullable = true)\n",
      " |-- location_region: string (nullable = true)\n",
      " |-- number_of_photos: string (nullable = true)\n",
      " |-- up_counter: string (nullable = true)\n",
      " |-- duration_listed: string (nullable = true)\n",
      "\n"
     ]
    }
   ],
   "source": [
    "df_cars.printSchema()"
   ]
  },
  {
   "cell_type": "markdown",
   "metadata": {},
   "source": [
    "### .explain()"
   ]
  },
  {
   "cell_type": "code",
   "execution_count": 50,
   "metadata": {},
   "outputs": [
    {
     "name": "stdout",
     "output_type": "stream",
     "text": [
      "== Physical Plan ==\n",
      "FileScan csv [manufacturer_name#996,model_name#997,transmission#998,odometer_value#999,year_produced#1000,engine_capacity#1001,body_type#1002,price_usd#1003,location_region#1004,number_of_photos#1005,up_counter#1006,duration_listed#1007] Batched: false, DataFilters: [], Format: CSV, Location: InMemoryFileIndex(1 paths)[file:/Users/dmitry.volkov/Desktop/HPPL/final/cars.csv], PartitionFilters: [], PushedFilters: [], ReadSchema: struct<manufacturer_name:string,model_name:string,transmission:string,odometer_value:string,year_...\n",
      "\n",
      "\n"
     ]
    }
   ],
   "source": [
    "df_cars.explain()"
   ]
  },
  {
   "cell_type": "markdown",
   "metadata": {},
   "source": [
    "### .dtypes"
   ]
  },
  {
   "cell_type": "code",
   "execution_count": 51,
   "metadata": {
    "pycharm": {
     "name": "#%%\n"
    }
   },
   "outputs": [
    {
     "name": "stderr",
     "output_type": "stream",
     "text": [
      "                                                                                \r"
     ]
    }
   ],
   "source": [
    "df_cars = spark.read.csv('cars.csv', header=True, inferSchema=True)"
   ]
  },
  {
   "cell_type": "code",
   "execution_count": 52,
   "metadata": {
    "pycharm": {
     "name": "#%%\n"
    }
   },
   "outputs": [
    {
     "data": {
      "text/plain": "[('manufacturer_name', 'string'),\n ('model_name', 'string'),\n ('transmission', 'string'),\n ('odometer_value', 'int'),\n ('year_produced', 'int'),\n ('engine_capacity', 'double'),\n ('body_type', 'string'),\n ('price_usd', 'double'),\n ('location_region', 'string'),\n ('number_of_photos', 'int'),\n ('up_counter', 'int'),\n ('duration_listed', 'int')]"
     },
     "execution_count": 52,
     "metadata": {},
     "output_type": "execute_result"
    }
   ],
   "source": [
    "df_cars.dtypes"
   ]
  },
  {
   "cell_type": "markdown",
   "metadata": {},
   "source": [
    "### .head(n)\n",
    "Returns n rows as a list"
   ]
  },
  {
   "cell_type": "code",
   "execution_count": 53,
   "metadata": {},
   "outputs": [
    {
     "data": {
      "text/plain": "[Row(manufacturer_name='Subaru', model_name='Outback', transmission='automatic', odometer_value=190000, year_produced=2010, engine_capacity=2.5, body_type='universal', price_usd=10900.0, location_region='Минская обл.', number_of_photos=9, up_counter=13, duration_listed=16)]"
     },
     "execution_count": 53,
     "metadata": {},
     "output_type": "execute_result"
    }
   ],
   "source": [
    "df_cars.head(1)"
   ]
  },
  {
   "cell_type": "markdown",
   "metadata": {},
   "source": [
    "### .show(n)\n",
    "It displays the first 20 rows by default and it also takes a number as a parameter to display the number of rows of the data."
   ]
  },
  {
   "cell_type": "code",
   "execution_count": 54,
   "metadata": {},
   "outputs": [
    {
     "name": "stdout",
     "output_type": "stream",
     "text": [
      "+-----------------+----------+------------+--------------+-------------+---------------+---------+---------+---------------+----------------+----------+---------------+\n",
      "|manufacturer_name|model_name|transmission|odometer_value|year_produced|engine_capacity|body_type|price_usd|location_region|number_of_photos|up_counter|duration_listed|\n",
      "+-----------------+----------+------------+--------------+-------------+---------------+---------+---------+---------------+----------------+----------+---------------+\n",
      "|           Subaru|   Outback|   automatic|        190000|         2010|            2.5|universal|  10900.0|   Минская обл.|               9|        13|             16|\n",
      "|           Subaru|   Outback|   automatic|        290000|         2002|            3.0|universal|   5000.0|   Минская обл.|              12|        54|             83|\n",
      "+-----------------+----------+------------+--------------+-------------+---------------+---------+---------+---------------+----------------+----------+---------------+\n",
      "only showing top 2 rows\n",
      "\n"
     ]
    }
   ],
   "source": [
    "df_cars.show(2)"
   ]
  },
  {
   "cell_type": "markdown",
   "metadata": {},
   "source": [
    "### .select()\n",
    "Selecting only a certan columns"
   ]
  },
  {
   "cell_type": "code",
   "execution_count": 55,
   "metadata": {},
   "outputs": [],
   "source": [
    "df_cars = df_cars.select('manufacturer_name',\n",
    "                         'model_name',\n",
    "                         'odometer_value',\n",
    "                         'price_usd',\n",
    "                         'number_of_photos',\n",
    "                         'year_produced',\n",
    "                         'duration_listed')"
   ]
  },
  {
   "cell_type": "code",
   "execution_count": 56,
   "metadata": {
    "scrolled": true
   },
   "outputs": [
    {
     "name": "stdout",
     "output_type": "stream",
     "text": [
      "+-----------------+----------+--------------+---------+----------------+-------------+---------------+\n",
      "|manufacturer_name|model_name|odometer_value|price_usd|number_of_photos|year_produced|duration_listed|\n",
      "+-----------------+----------+--------------+---------+----------------+-------------+---------------+\n",
      "|           Subaru|   Outback|        190000|  10900.0|               9|         2010|             16|\n",
      "|           Subaru|   Outback|        290000|   5000.0|              12|         2002|             83|\n",
      "|           Subaru|  Forester|        402000|   2800.0|               4|         2001|            151|\n",
      "|           Subaru|   Impreza|         10000|   9999.0|               9|         1999|             86|\n",
      "|           Subaru|    Legacy|        280000|  2134.11|              14|         2001|              7|\n",
      "+-----------------+----------+--------------+---------+----------------+-------------+---------------+\n",
      "only showing top 5 rows\n",
      "\n"
     ]
    }
   ],
   "source": [
    "df_cars.show(5)"
   ]
  },
  {
   "cell_type": "markdown",
   "metadata": {},
   "source": [
    "### .describe()"
   ]
  },
  {
   "cell_type": "code",
   "execution_count": 57,
   "metadata": {
    "scrolled": true
   },
   "outputs": [
    {
     "name": "stderr",
     "output_type": "stream",
     "text": [
      "[Stage 36:>                                                         (0 + 1) / 1]\r"
     ]
    },
    {
     "name": "stdout",
     "output_type": "stream",
     "text": [
      "+-------+-----------------+------------------+-----------------+\n",
      "|summary|manufacturer_name|     year_produced|        price_usd|\n",
      "+-------+-----------------+------------------+-----------------+\n",
      "|  count|            38531|             38531|            38531|\n",
      "|   mean|             null|2002.9437336170874|6639.971021255604|\n",
      "| stddev|             null| 8.065730511309887|6428.152018202918|\n",
      "|    min|            Acura|              1942|              1.0|\n",
      "|    max|              УАЗ|              2019|          50000.0|\n",
      "+-------+-----------------+------------------+-----------------+\n",
      "\n"
     ]
    },
    {
     "name": "stderr",
     "output_type": "stream",
     "text": [
      "                                                                                \r"
     ]
    }
   ],
   "source": [
    "df_cars.select(\"manufacturer_name\", \"year_produced\", \"price_usd\").describe().show()"
   ]
  },
  {
   "cell_type": "markdown",
   "metadata": {
    "pycharm": {
     "name": "#%% md\n"
    }
   },
   "source": [
    "### Checking data shape"
   ]
  },
  {
   "cell_type": "code",
   "execution_count": 58,
   "metadata": {
    "pycharm": {
     "name": "#%%\n"
    }
   },
   "outputs": [
    {
     "name": "stdout",
     "output_type": "stream",
     "text": [
      "Dimension of the Dataframe is: (38531, 7)\n"
     ]
    }
   ],
   "source": [
    "rows, cols = df_cars.count(), len(df_cars.columns)\n",
    "print(f'Dimension of the Dataframe is: {(rows, cols)}')"
   ]
  },
  {
   "cell_type": "markdown",
   "metadata": {},
   "source": [
    "# 2. Columns Manipulation\n",
    "1. `.withColumn()`\n",
    "2. `.withColumnRenamed()`\n",
    "3. `.drop()`"
   ]
  },
  {
   "cell_type": "markdown",
   "metadata": {},
   "source": [
    "### .withColumn()\n",
    "Mutating columns, adding new ones. Method takes two parameters column name and data to add a new column to the existing data."
   ]
  },
  {
   "cell_type": "code",
   "execution_count": 59,
   "metadata": {},
   "outputs": [
    {
     "name": "stdout",
     "output_type": "stream",
     "text": [
      "+-----------------+----------+--------------+---------+----------------+-------------+---------------+---------+\n",
      "|manufacturer_name|model_name|odometer_value|price_usd|number_of_photos|year_produced|duration_listed|price_rub|\n",
      "+-----------------+----------+--------------+---------+----------------+-------------+---------------+---------+\n",
      "|           Subaru|   Outback|        190000|  10900.0|               9|         2010|             16| 817500.0|\n",
      "|           Subaru|   Outback|        290000|   5000.0|              12|         2002|             83| 375000.0|\n",
      "|           Subaru|  Forester|        402000|   2800.0|               4|         2001|            151| 210000.0|\n",
      "+-----------------+----------+--------------+---------+----------------+-------------+---------------+---------+\n",
      "only showing top 3 rows\n",
      "\n"
     ]
    }
   ],
   "source": [
    "df_cars = df_cars.withColumn('price_rub', df_cars.price_usd * 75.0)\n",
    "\n",
    "df_cars.show(3)"
   ]
  },
  {
   "cell_type": "markdown",
   "metadata": {},
   "source": [
    "### .withColumnRenamed()\n",
    "Takes to parameters existing column name and new column name to rename the existing column."
   ]
  },
  {
   "cell_type": "code",
   "execution_count": 60,
   "metadata": {},
   "outputs": [],
   "source": [
    "df_cars = df_cars.withColumnRenamed(\"manufacturer_name\", \"manufacturer\")"
   ]
  },
  {
   "cell_type": "markdown",
   "metadata": {},
   "source": [
    "### .drop()"
   ]
  },
  {
   "cell_type": "code",
   "execution_count": 61,
   "metadata": {},
   "outputs": [],
   "source": [
    "df_cars = df_cars.drop('price_usd')"
   ]
  },
  {
   "cell_type": "markdown",
   "metadata": {},
   "source": [
    "---"
   ]
  },
  {
   "cell_type": "markdown",
   "metadata": {},
   "source": [
    "# 3. Querying Data\n",
    "\n",
    "1. `.Filter()`\n",
    "2. `.Where()`\n",
    "3. `Like`\n",
    "4. `Distinct`\n",
    "5. `Between`\n",
    "6. `.GroupBy()`\n",
    "7. `.OrderBy()`"
   ]
  },
  {
   "cell_type": "markdown",
   "metadata": {},
   "source": [
    "### .filter()\n",
    "Filter the data based on the given condition, you can also give multiple conditions using `AND(&)`, `OR(|)`, and `NOT(~)` operators."
   ]
  },
  {
   "cell_type": "code",
   "execution_count": 62,
   "metadata": {},
   "outputs": [
    {
     "name": "stdout",
     "output_type": "stream",
     "text": [
      "+------------+----------+--------------+----------------+-------------+---------------+---------+\n",
      "|manufacturer|model_name|odometer_value|number_of_photos|year_produced|duration_listed|price_rub|\n",
      "+------------+----------+--------------+----------------+-------------+---------------+---------+\n",
      "|        LADA|    Priora|        115000|               3|         2008|              7| 225000.0|\n",
      "|        LADA|    Priora|         73000|               8|         2011|             82| 285000.0|\n",
      "|        LADA|    Priora|        106600|              14|         2015|             31| 390000.0|\n",
      "+------------+----------+--------------+----------------+-------------+---------------+---------+\n",
      "only showing top 3 rows\n",
      "\n"
     ]
    }
   ],
   "source": [
    "df_cars.filter('manufacturer_name = \"LADA\" and model_name = \"Priora\"').show(3)"
   ]
  },
  {
   "cell_type": "markdown",
   "metadata": {},
   "source": [
    "### .where()"
   ]
  },
  {
   "cell_type": "code",
   "execution_count": 63,
   "metadata": {},
   "outputs": [
    {
     "name": "stdout",
     "output_type": "stream",
     "text": [
      "+------------+----------+--------------+----------------+-------------+---------------+---------+\n",
      "|manufacturer|model_name|odometer_value|number_of_photos|year_produced|duration_listed|price_rub|\n",
      "+------------+----------+--------------+----------------+-------------+---------------+---------+\n",
      "|        LADA|    Largus|         78932|              14|         2014|              0| 529972.5|\n",
      "|        LADA|    Largus|         30500|               9|         2017|              6| 667500.0|\n",
      "|        LADA|    Largus|        135350|               2|         2015|             26| 487500.0|\n",
      "+------------+----------+--------------+----------------+-------------+---------------+---------+\n",
      "only showing top 3 rows\n",
      "\n"
     ]
    }
   ],
   "source": [
    "df_cars.where('manufacturer_name = \"LADA\" and model_name like \"%gus\"').show(3)"
   ]
  },
  {
   "cell_type": "markdown",
   "metadata": {},
   "source": [
    "**Note**\n",
    "\n",
    "PySpark `filter()` function is used to filter the rows from RDD/DataFrame based on the given condition or SQL expression, you can also use `where()` clause instead of the `filter()` if you are coming from an SQL background, both these functions operate exactly the same."
   ]
  },
  {
   "cell_type": "markdown",
   "metadata": {},
   "source": [
    "### like\n",
    "\n",
    "SQL `like` syntax"
   ]
  },
  {
   "cell_type": "code",
   "execution_count": 64,
   "metadata": {},
   "outputs": [
    {
     "name": "stdout",
     "output_type": "stream",
     "text": [
      "+------------+----------+--------------+----------------+-------------+---------------+---------+\n",
      "|manufacturer|model_name|odometer_value|number_of_photos|year_produced|duration_listed|price_rub|\n",
      "+------------+----------+--------------+----------------+-------------+---------------+---------+\n",
      "|        Saab|    9 - 7X|        202208|               5|         2006|            109| 937500.0|\n",
      "|        Saab|     9 - 3|        348788|              16|         2002|             21| 322500.0|\n",
      "|        Saab|     9 - 3|        260000|               7|         2004|            468| 390000.0|\n",
      "|        Saab|     9 - 3|        250000|               6|         2008|             98| 506250.0|\n",
      "|        Saab|     9 - 3|        267000|              13|         2006|              0| 502500.0|\n",
      "|        Saab|      9000|        428000|              18|         1996|             39| 126750.0|\n",
      "+------------+----------+--------------+----------------+-------------+---------------+---------+\n",
      "only showing top 6 rows\n",
      "\n"
     ]
    }
   ],
   "source": [
    "df_cars.filter('manufacturer_name like \"Saab\" and model_name like \"9%\"').show(6)"
   ]
  },
  {
   "cell_type": "markdown",
   "metadata": {},
   "source": [
    "### .between"
   ]
  },
  {
   "cell_type": "code",
   "execution_count": 65,
   "metadata": {
    "scrolled": false
   },
   "outputs": [
    {
     "name": "stdout",
     "output_type": "stream",
     "text": [
      "+------------+----------+--------------+----------------+-------------+---------------+---------+\n",
      "|manufacturer|model_name|odometer_value|number_of_photos|year_produced|duration_listed|price_rub|\n",
      "+------------+----------+--------------+----------------+-------------+---------------+---------+\n",
      "|      Subaru|   Outback|        290000|              12|         2002|             83| 375000.0|\n",
      "|      Subaru|  Forester|        402000|               4|         2001|            151| 210000.0|\n",
      "|      Subaru|    Legacy|        280000|              14|         2001|              7|160058.25|\n",
      "|      Subaru|    Legacy|        350000|               7|         2004|             73| 337500.0|\n",
      "|      Subaru|  Forester|        280000|              14|         2003|             11| 517500.0|\n",
      "|      Subaru|  Forester|        321000|              13|         2002|              2| 322500.0|\n",
      "|      Subaru|     Justy|         49999|               8|         2001|            230| 124950.0|\n",
      "|      Subaru|   Outback|        163219|              17|         2004|             35| 547500.0|\n",
      "|      Subaru|   Outback|        318650|               7|         2005|            468|569097.75|\n",
      "|      Subaru|   Impreza|        191000|              12|         2005|             21| 821250.0|\n",
      "|      Subaru|   Tribeca|        241402|              18|         2005|            188| 562500.0|\n",
      "|      Subaru|   Tribeca|        188000|              30|         2006|             37| 648750.0|\n",
      "|      Subaru|  Forester|        240000|               5|         2001|             86| 262500.0|\n",
      "|      Subaru|    Legacy|        249448|              12|         2002|             67| 285000.0|\n",
      "|      Subaru|   Tribeca|        250000|               7|         2007|            204| 540000.0|\n",
      "|      Subaru|    Legacy|        270000|              10|         2004|             48| 465000.0|\n",
      "|      Subaru|   Outback|        288500|              25|         2006|              2| 637500.0|\n",
      "|      Subaru|   Tribeca|        225000|               7|         2005|            419| 562500.0|\n",
      "|      Subaru|   Outback|        310000|               4|         2001|              1| 247500.0|\n",
      "|      Subaru|  Forester|        242000|              16|         2003|             10| 336750.0|\n",
      "+------------+----------+--------------+----------------+-------------+---------------+---------+\n",
      "only showing top 20 rows\n",
      "\n"
     ]
    }
   ],
   "source": [
    "df_cars.filter('year_produced between 2000 and 2007').show()"
   ]
  },
  {
   "cell_type": "markdown",
   "metadata": {},
   "source": [
    "### .distinct()"
   ]
  },
  {
   "cell_type": "code",
   "execution_count": 66,
   "metadata": {},
   "outputs": [
    {
     "name": "stdout",
     "output_type": "stream",
     "text": [
      "+------------+\n",
      "|manufacturer|\n",
      "+------------+\n",
      "|  Volkswagen|\n",
      "|    Infiniti|\n",
      "|     Peugeot|\n",
      "|       Lexus|\n",
      "|      Jaguar|\n",
      "|       Rover|\n",
      "|      Lancia|\n",
      "|        Jeep|\n",
      "|  Mitsubishi|\n",
      "|         ГАЗ|\n",
      "|         Kia|\n",
      "|        Mini|\n",
      "|   Chevrolet|\n",
      "|       Volvo|\n",
      "|       Lifan|\n",
      "|     Hyundai|\n",
      "|        Saab|\n",
      "|        LADA|\n",
      "|       Honda|\n",
      "|   SsangYong|\n",
      "+------------+\n",
      "only showing top 20 rows\n",
      "\n"
     ]
    }
   ],
   "source": [
    "df_cars.select('manufacturer').distinct().show()"
   ]
  },
  {
   "cell_type": "markdown",
   "metadata": {},
   "source": [
    "### .groupBy()"
   ]
  },
  {
   "cell_type": "code",
   "execution_count": 67,
   "metadata": {},
   "outputs": [
    {
     "name": "stderr",
     "output_type": "stream",
     "text": [
      "[Stage 50:>                                                         (0 + 1) / 1]\r"
     ]
    },
    {
     "name": "stdout",
     "output_type": "stream",
     "text": [
      "+------------+-----+\n",
      "|manufacturer|count|\n",
      "+------------+-----+\n",
      "|  Volkswagen| 4243|\n",
      "|    Infiniti|  162|\n",
      "|     Peugeot| 1909|\n",
      "|       Lexus|  213|\n",
      "|      Jaguar|   53|\n",
      "|       Rover|  235|\n",
      "|      Lancia|   92|\n",
      "|        Jeep|  107|\n",
      "|  Mitsubishi|  887|\n",
      "|         ГАЗ|  200|\n",
      "|         Kia|  912|\n",
      "|        Mini|   68|\n",
      "|   Chevrolet|  436|\n",
      "|       Volvo|  721|\n",
      "|       Lifan|   47|\n",
      "|     Hyundai| 1116|\n",
      "|        Saab|  108|\n",
      "|        LADA|  146|\n",
      "|       Honda|  797|\n",
      "|   SsangYong|   79|\n",
      "+------------+-----+\n",
      "only showing top 20 rows\n",
      "\n"
     ]
    },
    {
     "name": "stderr",
     "output_type": "stream",
     "text": [
      "                                                                                \r"
     ]
    }
   ],
   "source": [
    "df_cars.groupBy('manufacturer').count().show()"
   ]
  },
  {
   "cell_type": "markdown",
   "metadata": {},
   "source": [
    "### `Note` lazy evaluation"
   ]
  },
  {
   "cell_type": "code",
   "execution_count": 68,
   "metadata": {},
   "outputs": [
    {
     "name": "stdout",
     "output_type": "stream",
     "text": [
      "== Physical Plan ==\n",
      "AdaptiveSparkPlan isFinalPlan=false\n",
      "+- HashAggregate(keys=[manufacturer#1486], functions=[avg(price_rub#1437)])\n",
      "   +- Exchange hashpartitioning(manufacturer#1486, 200), ENSURE_REQUIREMENTS, [id=#754]\n",
      "      +- HashAggregate(keys=[manufacturer#1486], functions=[partial_avg(price_rub#1437)])\n",
      "         +- Project [manufacturer_name#1036 AS manufacturer#1486, (price_usd#1043 * 75.0) AS price_rub#1437]\n",
      "            +- FileScan csv [manufacturer_name#1036,price_usd#1043] Batched: false, DataFilters: [], Format: CSV, Location: InMemoryFileIndex(1 paths)[file:/Users/dmitry.volkov/Desktop/HPPL/final/cars.csv], PartitionFilters: [], PushedFilters: [], ReadSchema: struct<manufacturer_name:string,price_usd:double>\n",
      "\n",
      "\n"
     ]
    }
   ],
   "source": [
    "df_cars2 = df_cars.groupBy('manufacturer').avg('price_rub')\n",
    "\n",
    "df_cars2.explain()"
   ]
  },
  {
   "cell_type": "markdown",
   "metadata": {},
   "source": [
    "### .orderBy()"
   ]
  },
  {
   "cell_type": "code",
   "execution_count": 69,
   "metadata": {
    "scrolled": false
   },
   "outputs": [
    {
     "name": "stdout",
     "output_type": "stream",
     "text": [
      "+------------+------------------+\n",
      "|manufacturer|    avg(price_rub)|\n",
      "+------------+------------------+\n",
      "|     Москвич| 73418.41363636364|\n",
      "|         ЗАЗ|102015.83928571429|\n",
      "|         ВАЗ|113919.09667359668|\n",
      "|      Daewoo|118245.65497737557|\n",
      "|       Rover| 130068.1659574468|\n",
      "|  Alfa Romeo| 201641.2572463768|\n",
      "|      Lancia| 217613.1277173913|\n",
      "|        Fiat|  225751.520934466|\n",
      "|         УАЗ| 258234.2837837838|\n",
      "|        Seat|  290101.150990099|\n",
      "|         ГАЗ|       291729.8925|\n",
      "|        Saab|309793.90277777775|\n",
      "|     Pontiac| 327265.8035714286|\n",
      "|     Peugeot|328666.32949188055|\n",
      "|        Opel| 331949.4674700979|\n",
      "|     Citroen|332484.46526888607|\n",
      "|       Chery| 340948.3577586207|\n",
      "|     Renault| 341804.9154632972|\n",
      "|       Mazda| 354864.5325677711|\n",
      "|        Ford| 374541.6032735776|\n",
      "+------------+------------------+\n",
      "only showing top 20 rows\n",
      "\n"
     ]
    }
   ],
   "source": [
    "df_cars.groupBy('manufacturer').avg('price_rub').orderBy('avg(price_rub)').show()"
   ]
  },
  {
   "cell_type": "code",
   "execution_count": 71,
   "outputs": [],
   "source": [
    "df_cars.registerTempTable('df_sql')"
   ],
   "metadata": {
    "collapsed": false,
    "pycharm": {
     "name": "#%%\n"
    }
   }
  },
  {
   "cell_type": "code",
   "execution_count": 72,
   "outputs": [],
   "source": [
    "query = \"\"\"\n",
    "SELECT *, odometer_value * 20 AS new_odometer\n",
    "FROM df_sql\n",
    "WHERE year_produced > 2010 AND number_of_photos >9\n",
    "ORDER BY price_rub\n",
    "\"\"\""
   ],
   "metadata": {
    "collapsed": false,
    "pycharm": {
     "name": "#%%\n"
    }
   }
  },
  {
   "cell_type": "code",
   "execution_count": 73,
   "outputs": [
    {
     "name": "stdout",
     "output_type": "stream",
     "text": [
      "+------------+----------+--------------+----------------+-------------+---------------+------------------+------------+\n",
      "|manufacturer|model_name|odometer_value|number_of_photos|year_produced|duration_listed|         price_rub|new_odometer|\n",
      "+------------+----------+--------------+----------------+-------------+---------------+------------------+------------+\n",
      "|      Daewoo|     Matiz|         55000|              10|         2014|             18|          127500.0|     1100000|\n",
      "|         ЗАЗ|     Lanos|        203218|              18|         2011|             19|          142500.0|     4064360|\n",
      "|      Daewoo|     Nexia|        280000|              20|         2011|             92|          142500.0|     5600000|\n",
      "|      Daewoo|     Nexia|         65000|              10|         2015|             18|          164925.0|     1300000|\n",
      "|         ВАЗ|      2113|        160000|              19|         2011|            448|          172500.0|     3200000|\n",
      "|       Geely|        CK|        150000|              13|         2013|            154|          187500.0|     3000000|\n",
      "|        LADA|    Largus|        120000|              18|         2017|            150|          216600.0|     2400000|\n",
      "|         ВАЗ|      2114|         92000|              10|         2013|             77|224082.00000000003|     1840000|\n",
      "|     Renault|     Logan|         98700|              11|         2013|             31|          228750.0|     1974000|\n",
      "|         ЗАЗ|     Lanos|         72500|              15|         2011|             23|          232500.0|     1450000|\n",
      "|         ЗАЗ|     Forza|        103720|              12|         2011|             54|235535.24999999997|     2074400|\n",
      "|       Geely|        MK|        171400|              17|         2012|            113|          247500.0|     3428000|\n",
      "|       Geely|        CK|        121341|              12|         2012|            148|          247500.0|     2426820|\n",
      "|       Chery|       A13|        137000|              10|         2012|             97|          255000.0|     2740000|\n",
      "|        Fiat|     Panda|        130314|              14|         2011|             17|          262425.0|     2606280|\n",
      "|       Lifan|       320|        127000|              11|         2012|              5|          277500.0|     2540000|\n",
      "|         ВАЗ|     21214|        250000|              17|         2011|             59|          285000.0|     5000000|\n",
      "|         ЗАЗ|     Forza|         73000|              10|         2012|             88|          299925.0|     1460000|\n",
      "|        LADA|    Largus|        195000|              10|         2014|             41|          300000.0|     3900000|\n",
      "|        LADA|    Largus|        160000|              14|         2014|             50|          300000.0|     3200000|\n",
      "+------------+----------+--------------+----------------+-------------+---------------+------------------+------------+\n",
      "only showing top 20 rows\n",
      "\n"
     ]
    },
    {
     "name": "stderr",
     "output_type": "stream",
     "text": [
      "                                                                                \r"
     ]
    }
   ],
   "source": [
    "spark.sql(query).show()"
   ],
   "metadata": {
    "collapsed": false,
    "pycharm": {
     "name": "#%%\n"
    }
   }
  },
  {
   "cell_type": "code",
   "execution_count": 74,
   "outputs": [
    {
     "name": "stdout",
     "output_type": "stream",
     "text": [
      "== Physical Plan ==\n",
      "AdaptiveSparkPlan isFinalPlan=false\n",
      "+- Sort [price_rub#1437 ASC NULLS FIRST], true, 0\n",
      "   +- Exchange rangepartitioning(price_rub#1437 ASC NULLS FIRST, 200), ENSURE_REQUIREMENTS, [id=#841]\n",
      "      +- Project [manufacturer_name#1036 AS manufacturer#1486, model_name#1037, odometer_value#1039, number_of_photos#1045, year_produced#1040, duration_listed#1047, (price_usd#1043 * 75.0) AS price_rub#1437, (odometer_value#1039 * 20) AS new_odometer#1770]\n",
      "         +- Filter (((isnotnull(year_produced#1040) AND isnotnull(number_of_photos#1045)) AND (year_produced#1040 > 2010)) AND (number_of_photos#1045 > 9))\n",
      "            +- FileScan csv [manufacturer_name#1036,model_name#1037,odometer_value#1039,year_produced#1040,price_usd#1043,number_of_photos#1045,duration_listed#1047] Batched: false, DataFilters: [isnotnull(year_produced#1040), isnotnull(number_of_photos#1045), (year_produced#1040 > 2010), (n..., Format: CSV, Location: InMemoryFileIndex(1 paths)[file:/Users/dmitry.volkov/Desktop/HPPL/final/cars.csv], PartitionFilters: [], PushedFilters: [IsNotNull(year_produced), IsNotNull(number_of_photos), GreaterThan(year_produced,2010), GreaterT..., ReadSchema: struct<manufacturer_name:string,model_name:string,odometer_value:int,year_produced:int,price_usd:...\n",
      "\n",
      "\n"
     ]
    }
   ],
   "source": [
    "spark.sql(query).explain()"
   ],
   "metadata": {
    "collapsed": false,
    "pycharm": {
     "name": "#%%\n"
    }
   }
  },
  {
   "cell_type": "code",
   "execution_count": 75,
   "metadata": {},
   "outputs": [],
   "source": [
    "spark.stop()"
   ]
  },
  {
   "cell_type": "markdown",
   "metadata": {},
   "source": [
    "---"
   ]
  }
 ],
 "metadata": {
  "kernelspec": {
   "display_name": "Python 3 (ipykernel)",
   "language": "python",
   "name": "python3"
  },
  "language_info": {
   "codemirror_mode": {
    "name": "ipython",
    "version": 3
   },
   "file_extension": ".py",
   "mimetype": "text/x-python",
   "name": "python",
   "nbconvert_exporter": "python",
   "pygments_lexer": "ipython3",
   "version": "3.10.0"
  }
 },
 "nbformat": 4,
 "nbformat_minor": 1
}