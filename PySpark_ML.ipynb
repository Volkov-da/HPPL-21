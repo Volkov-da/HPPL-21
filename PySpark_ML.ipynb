{
 "cells": [
  {
   "cell_type": "markdown",
   "id": "0ece5315",
   "metadata": {},
   "source": [
    "# ML task on Used Cars dataset\n",
    "**Target:**\n",
    "Predict how many days `duration_listed` it will take to sell a car on a web platform."
   ]
  },
  {
   "cell_type": "markdown",
   "source": [
    "<img src=\"cars.jpg\" width=1256 height=353 />"
   ],
   "metadata": {
    "collapsed": false
   }
  },
  {
   "cell_type": "code",
   "execution_count": 1,
   "id": "642cfe57",
   "metadata": {},
   "outputs": [],
   "source": [
    "from pyspark.sql import SparkSession"
   ]
  },
  {
   "cell_type": "code",
   "execution_count": 2,
   "id": "74e97b4c",
   "metadata": {},
   "outputs": [
    {
     "name": "stderr",
     "output_type": "stream",
     "text": [
      "21/12/13 09:28:58 WARN Utils: Your hostname, Dmitrijs-MacBook-Pro.local resolves to a loopback address: 127.0.0.1; using 10.16.104.9 instead (on interface en0)\n",
      "21/12/13 09:28:58 WARN Utils: Set SPARK_LOCAL_IP if you need to bind to another address\n",
      "Using Spark's default log4j profile: org/apache/spark/log4j-defaults.properties\n",
      "Setting default log level to \"WARN\".\n",
      "To adjust logging level use sc.setLogLevel(newLevel). For SparkR, use setLogLevel(newLevel).\n",
      "21/12/13 09:29:02 WARN NativeCodeLoader: Unable to load native-hadoop library for your platform... using builtin-java classes where applicable\n"
     ]
    }
   ],
   "source": [
    "appName = \"ML pipline\"\n",
    "master = \"local[4]\"\n",
    "\n",
    "spark = SparkSession.builder.master(master).appName(appName).getOrCreate()"
   ]
  },
  {
   "cell_type": "code",
   "execution_count": 3,
   "id": "4ba79ed0",
   "metadata": {},
   "outputs": [
    {
     "data": {
      "text/plain": "<pyspark.sql.session.SparkSession at 0x10d0edc90>",
      "text/html": "\n            <div>\n                <p><b>SparkSession - in-memory</b></p>\n                \n        <div>\n            <p><b>SparkContext</b></p>\n\n            <p><a href=\"http://10.16.104.9:4040\">Spark UI</a></p>\n\n            <dl>\n              <dt>Version</dt>\n                <dd><code>v3.2.0</code></dd>\n              <dt>Master</dt>\n                <dd><code>local[4]</code></dd>\n              <dt>AppName</dt>\n                <dd><code>ML pipline</code></dd>\n            </dl>\n        </div>\n        \n            </div>\n        "
     },
     "execution_count": 3,
     "metadata": {},
     "output_type": "execute_result"
    }
   ],
   "source": [
    "spark"
   ]
  },
  {
   "cell_type": "markdown",
   "id": "64c6785a",
   "metadata": {},
   "source": [
    "# 0. Reading Data"
   ]
  },
  {
   "cell_type": "code",
   "execution_count": 4,
   "id": "6b97906b",
   "metadata": {},
   "outputs": [
    {
     "name": "stderr",
     "output_type": "stream",
     "text": [
      "                                                                                \r"
     ]
    }
   ],
   "source": [
    "df_cars = spark.read.csv('cars.csv', header='True', inferSchema=True)\n",
    "TARGET = 'duration_listed'"
   ]
  },
  {
   "cell_type": "code",
   "execution_count": 5,
   "id": "0ea5e0e6",
   "metadata": {},
   "outputs": [],
   "source": [
    "df_cars = df_cars.dropna()"
   ]
  },
  {
   "cell_type": "code",
   "execution_count": 6,
   "id": "2a926d72",
   "metadata": {},
   "outputs": [
    {
     "name": "stdout",
     "output_type": "stream",
     "text": [
      "root\n",
      " |-- manufacturer_name: string (nullable = true)\n",
      " |-- model_name: string (nullable = true)\n",
      " |-- transmission: string (nullable = true)\n",
      " |-- odometer_value: integer (nullable = true)\n",
      " |-- year_produced: integer (nullable = true)\n",
      " |-- engine_capacity: double (nullable = true)\n",
      " |-- body_type: string (nullable = true)\n",
      " |-- price_usd: double (nullable = true)\n",
      " |-- location_region: string (nullable = true)\n",
      " |-- number_of_photos: integer (nullable = true)\n",
      " |-- up_counter: integer (nullable = true)\n",
      " |-- duration_listed: integer (nullable = true)\n",
      "\n"
     ]
    }
   ],
   "source": [
    "df_cars.printSchema()"
   ]
  },
  {
   "cell_type": "markdown",
   "id": "c9566b28",
   "metadata": {},
   "source": [
    "### Separating different data types"
   ]
  },
  {
   "cell_type": "code",
   "execution_count": 7,
   "id": "e1ccc9b3",
   "metadata": {},
   "outputs": [],
   "source": [
    "str_cols = [item[0] for item in df_cars.dtypes if item[1].startswith('string')]\n",
    "\n",
    "float_cols = [item[0] for item in df_cars.dtypes if item[1].startswith('double')]\n",
    "\n",
    "int_cols = [item[0] for item in df_cars.dtypes if item[1].startswith('int')]\n",
    "\n",
    "bool_cols = [item[0] for item in df_cars.dtypes if item[1].startswith('boolean')]"
   ]
  },
  {
   "cell_type": "markdown",
   "id": "b3064ae7",
   "metadata": {},
   "source": [
    "# 1. Splitting the data into train and test"
   ]
  },
  {
   "cell_type": "markdown",
   "id": "81d8584f",
   "metadata": {},
   "source": [
    "### 1.1 Simple splitting"
   ]
  },
  {
   "cell_type": "code",
   "execution_count": 8,
   "id": "eb8f0d8a",
   "metadata": {},
   "outputs": [],
   "source": [
    "# Split the data into train and test sets\n",
    "train, test = df_cars.randomSplit([.75, .25], seed=1234)"
   ]
  },
  {
   "cell_type": "code",
   "execution_count": 9,
   "id": "bf51b069",
   "metadata": {
    "scrolled": true
   },
   "outputs": [
    {
     "name": "stderr",
     "output_type": "stream",
     "text": [
      "[Stage 5:>                                                          (0 + 1) / 1]\r"
     ]
    },
    {
     "name": "stdout",
     "output_type": "stream",
     "text": [
      "Train size: 28854\n",
      "Test size:  9667\n"
     ]
    },
    {
     "name": "stderr",
     "output_type": "stream",
     "text": [
      "                                                                                \r"
     ]
    }
   ],
   "source": [
    "print(f'Train size: {train.count()}\\nTest size:  {test.count()}')"
   ]
  },
  {
   "cell_type": "markdown",
   "id": "c6325f47",
   "metadata": {},
   "source": [
    "**Note**\n",
    "\n",
    "Stratified split need to be done by hands"
   ]
  },
  {
   "cell_type": "markdown",
   "id": "08ce32da",
   "metadata": {},
   "source": [
    "### 1.2 Stratified splitting"
   ]
  },
  {
   "cell_type": "code",
   "execution_count": 10,
   "id": "e25b6d5c",
   "metadata": {
    "scrolled": true
   },
   "outputs": [
    {
     "name": "stderr",
     "output_type": "stream",
     "text": [
      "[Stage 8:>                                                          (0 + 1) / 1]\r"
     ]
    },
    {
     "name": "stdout",
     "output_type": "stream",
     "text": [
      "+------------+-----+\n",
      "|transmission|count|\n",
      "+------------+-----+\n",
      "|   automatic|12888|\n",
      "|  mechanical|25633|\n",
      "+------------+-----+\n",
      "\n"
     ]
    },
    {
     "name": "stderr",
     "output_type": "stream",
     "text": [
      "                                                                                \r"
     ]
    }
   ],
   "source": [
    "df_cars.groupby('transmission').count().show()"
   ]
  },
  {
   "cell_type": "code",
   "execution_count": 11,
   "id": "0dafd89c",
   "metadata": {},
   "outputs": [],
   "source": [
    "zeros = df_cars.filter(\"transmission = 'automatic'\")\n",
    "ones = df_cars.filter(\"transmission = 'mechanical'\")\n",
    "# split datasets into training and testing\n",
    "train0, test0 = zeros.randomSplit([.75, .25], seed=1234)\n",
    "train1, test1 = ones.randomSplit([.75, .25], seed=1234)\n",
    "# stack datasets back together\n",
    "train = train0.union(train1)\n",
    "test = test0.union(test1)"
   ]
  },
  {
   "cell_type": "code",
   "execution_count": 12,
   "id": "9908ecda",
   "metadata": {},
   "outputs": [
    {
     "name": "stderr",
     "output_type": "stream",
     "text": [
      "                                                                                \r"
     ]
    },
    {
     "data": {
      "text/plain": "(28900, 9621)"
     },
     "execution_count": 12,
     "metadata": {},
     "output_type": "execute_result"
    }
   ],
   "source": [
    "train.count(), test.count()"
   ]
  },
  {
   "cell_type": "markdown",
   "id": "54c84b60",
   "metadata": {},
   "source": [
    "# 2. Encoding Categorical variables"
   ]
  },
  {
   "cell_type": "markdown",
   "id": "3fd2a8b6",
   "metadata": {},
   "source": [
    "### 2.1 Label encoding (string indexing)"
   ]
  },
  {
   "cell_type": "code",
   "execution_count": 13,
   "id": "5f712692",
   "metadata": {},
   "outputs": [],
   "source": [
    "from pyspark.ml.feature import StringIndexer"
   ]
  },
  {
   "cell_type": "code",
   "execution_count": 14,
   "id": "ec4106aa",
   "metadata": {},
   "outputs": [
    {
     "name": "stderr",
     "output_type": "stream",
     "text": [
      "                                                                                \r"
     ]
    }
   ],
   "source": [
    "str_cols_ind =[col +'_ind' for col in str_cols]\n",
    "\n",
    "str_indexer = StringIndexer(inputCols=str_cols, outputCols=str_cols_ind)\n",
    "\n",
    "train = str_indexer.fit(train).transform(train)"
   ]
  },
  {
   "cell_type": "code",
   "execution_count": 15,
   "id": "e7a40f1b",
   "metadata": {
    "scrolled": false
   },
   "outputs": [
    {
     "name": "stderr",
     "output_type": "stream",
     "text": [
      "[Stage 20:=============================>                            (1 + 1) / 2]\r"
     ]
    },
    {
     "name": "stdout",
     "output_type": "stream",
     "text": [
      "+-----------------+---------------------+\n",
      "|manufacturer_name|manufacturer_name_ind|\n",
      "+-----------------+---------------------+\n",
      "|       Volkswagen|                  0.0|\n",
      "|             Opel|                  1.0|\n",
      "|              BMW|                  2.0|\n",
      "|             Ford|                  3.0|\n",
      "|             Audi|                  4.0|\n",
      "+-----------------+---------------------+\n",
      "only showing top 5 rows\n",
      "\n"
     ]
    },
    {
     "name": "stderr",
     "output_type": "stream",
     "text": [
      "                                                                                \r"
     ]
    }
   ],
   "source": [
    "train.select('manufacturer_name', 'manufacturer_name_ind').distinct().sort('manufacturer_name_ind').show(5)"
   ]
  },
  {
   "cell_type": "markdown",
   "id": "fa801085",
   "metadata": {},
   "source": [
    "### 2.2 One hot encoding"
   ]
  },
  {
   "cell_type": "code",
   "execution_count": 16,
   "id": "d86230b5",
   "metadata": {},
   "outputs": [],
   "source": [
    "from pyspark.ml.feature import OneHotEncoder"
   ]
  },
  {
   "cell_type": "code",
   "execution_count": 17,
   "id": "3fbc4559",
   "metadata": {},
   "outputs": [],
   "source": [
    "# Create a OneHotEncoder\n",
    "\n",
    "str_dummys = [col + '_dummy' for col in str_cols]\n",
    "\n",
    "onehot = OneHotEncoder(inputCols=str_cols_ind, outputCols=str_dummys)"
   ]
  },
  {
   "cell_type": "code",
   "execution_count": 18,
   "id": "d14cf93e",
   "metadata": {},
   "outputs": [],
   "source": [
    "train = onehot.fit(train).transform(train)"
   ]
  },
  {
   "cell_type": "code",
   "execution_count": 19,
   "id": "ad808d94",
   "metadata": {},
   "outputs": [
    {
     "name": "stderr",
     "output_type": "stream",
     "text": [
      "[Stage 23:=============================>                            (1 + 1) / 2]\r"
     ]
    },
    {
     "name": "stdout",
     "output_type": "stream",
     "text": [
      "+-----------------+---------------------+-----------------------+\n",
      "|manufacturer_name|manufacturer_name_ind|manufacturer_name_dummy|\n",
      "+-----------------+---------------------+-----------------------+\n",
      "|       Volkswagen|                  0.0|         (54,[0],[1.0])|\n",
      "|             Opel|                  1.0|         (54,[1],[1.0])|\n",
      "|              BMW|                  2.0|         (54,[2],[1.0])|\n",
      "|             Ford|                  3.0|         (54,[3],[1.0])|\n",
      "|             Audi|                  4.0|         (54,[4],[1.0])|\n",
      "|          Renault|                  5.0|         (54,[5],[1.0])|\n",
      "|    Mercedes-Benz|                  6.0|         (54,[6],[1.0])|\n",
      "|          Peugeot|                  7.0|         (54,[7],[1.0])|\n",
      "|          Citroen|                  8.0|         (54,[8],[1.0])|\n",
      "|           Nissan|                  9.0|         (54,[9],[1.0])|\n",
      "|            Mazda|                 10.0|        (54,[10],[1.0])|\n",
      "|           Toyota|                 11.0|        (54,[11],[1.0])|\n",
      "|          Hyundai|                 12.0|        (54,[12],[1.0])|\n",
      "|            Skoda|                 13.0|        (54,[13],[1.0])|\n",
      "|              Kia|                 14.0|        (54,[14],[1.0])|\n",
      "|       Mitsubishi|                 15.0|        (54,[15],[1.0])|\n",
      "|             Fiat|                 16.0|        (54,[16],[1.0])|\n",
      "|            Honda|                 17.0|        (54,[17],[1.0])|\n",
      "|            Volvo|                 18.0|        (54,[18],[1.0])|\n",
      "|              ВАЗ|                 19.0|        (54,[19],[1.0])|\n",
      "+-----------------+---------------------+-----------------------+\n",
      "only showing top 20 rows\n",
      "\n"
     ]
    },
    {
     "name": "stderr",
     "output_type": "stream",
     "text": [
      "                                                                                \r"
     ]
    }
   ],
   "source": [
    "train.select('manufacturer_name',\n",
    "             'manufacturer_name_ind',\n",
    "             'manufacturer_name_dummy')\\\n",
    "            .distinct()\\\n",
    "            .sort('manufacturer_name_ind')\\\n",
    "            .show()"
   ]
  },
  {
   "cell_type": "markdown",
   "id": "aea403b1",
   "metadata": {},
   "source": [
    "### `Note` Dense vs Sparse vectors"
   ]
  },
  {
   "cell_type": "code",
   "execution_count": 21,
   "id": "1b8d6c0e",
   "metadata": {},
   "outputs": [
    {
     "data": {
      "text/plain": "DenseVector([1.0, 0.0, 0.0, 0.0, 0.0, 0.0, 7.0, 0.0, 0.0])"
     },
     "execution_count": 21,
     "metadata": {},
     "output_type": "execute_result"
    }
   ],
   "source": [
    "from pyspark.ml.linalg import SparseVector, DenseVector\n",
    "\n",
    "DenseVector([1, 0, 0, 0, 0, 0, 7, 0, 0])"
   ]
  },
  {
   "cell_type": "code",
   "execution_count": 22,
   "id": "2bd7b2d7",
   "metadata": {
    "scrolled": true
   },
   "outputs": [
    {
     "data": {
      "text/plain": "SparseVector(9, {0: 1.0, 6: 7.0})"
     },
     "execution_count": 22,
     "metadata": {},
     "output_type": "execute_result"
    }
   ],
   "source": [
    "SparseVector(9, [0, 6], [1, 7])"
   ]
  },
  {
   "cell_type": "markdown",
   "id": "86f377a6",
   "metadata": {},
   "source": [
    "# 4. Vectorizing predictors"
   ]
  },
  {
   "cell_type": "code",
   "execution_count": 23,
   "id": "abd3a95d",
   "metadata": {},
   "outputs": [],
   "source": [
    "from pyspark.ml.feature import VectorAssembler"
   ]
  },
  {
   "cell_type": "code",
   "execution_count": 24,
   "id": "4e006276",
   "metadata": {
    "scrolled": true
   },
   "outputs": [
    {
     "name": "stderr",
     "output_type": "stream",
     "text": [
      "[Stage 26:>                                                         (0 + 1) / 1]\r"
     ]
    },
    {
     "name": "stdout",
     "output_type": "stream",
     "text": [
      "+--------------------+\n",
      "|            features|\n",
      "+--------------------+\n",
      "|(1150,[0,1,2,3,4,...|\n",
      "|(1150,[0,1,2,3,4,...|\n",
      "|(1150,[0,1,2,3,4,...|\n",
      "|(1150,[0,1,2,3,4,...|\n",
      "|(1150,[0,1,2,3,4,...|\n",
      "|(1150,[0,1,2,3,4,...|\n",
      "|(1150,[0,1,2,3,4,...|\n",
      "|(1150,[0,1,2,3,4,...|\n",
      "|(1150,[0,1,2,3,4,...|\n",
      "|(1150,[0,1,2,3,4,...|\n",
      "|(1150,[0,1,2,3,4,...|\n",
      "|(1150,[0,1,2,3,4,...|\n",
      "|(1150,[0,1,2,3,4,...|\n",
      "|(1150,[0,1,2,3,4,...|\n",
      "|(1150,[0,1,2,3,4,...|\n",
      "|(1150,[0,1,2,3,4,...|\n",
      "|(1150,[0,1,2,3,4,...|\n",
      "|(1150,[0,1,2,3,4,...|\n",
      "|(1150,[0,1,2,3,4,...|\n",
      "|(1150,[0,1,2,3,4,...|\n",
      "+--------------------+\n",
      "only showing top 20 rows\n",
      "\n"
     ]
    },
    {
     "name": "stderr",
     "output_type": "stream",
     "text": [
      "                                                                                \r"
     ]
    }
   ],
   "source": [
    "train = train.select(int_cols + float_cols + str_dummys)\n",
    "\n",
    "vec_assembler = VectorAssembler(inputCols=train.columns, outputCol='features')\n",
    "\n",
    "train = vec_assembler.transform(train)\n",
    "\n",
    "train.select('features').show()"
   ]
  },
  {
   "cell_type": "markdown",
   "id": "d00f3192",
   "metadata": {},
   "source": [
    "# 5. Baseline model"
   ]
  },
  {
   "cell_type": "code",
   "execution_count": 25,
   "id": "39426350",
   "metadata": {},
   "outputs": [],
   "source": [
    "import pyspark.ml"
   ]
  },
  {
   "cell_type": "code",
   "execution_count": 28,
   "outputs": [
    {
     "data": {
      "text/plain": "['ABCMeta',\n 'AFTSurvivalRegression',\n 'AFTSurvivalRegressionModel',\n 'DataFrame',\n 'DecisionTreeRegressionModel',\n 'DecisionTreeRegressor',\n 'FMRegressionModel',\n 'FMRegressor',\n 'GBTRegressionModel',\n 'GBTRegressor',\n 'GeneralJavaMLWritable',\n 'GeneralizedLinearRegression',\n 'GeneralizedLinearRegressionModel',\n 'GeneralizedLinearRegressionSummary',\n 'GeneralizedLinearRegressionTrainingSummary',\n 'HasAggregationDepth',\n 'HasElasticNetParam',\n 'HasFeaturesCol',\n 'HasFitIntercept',\n 'HasLabelCol',\n 'HasLoss',\n 'HasMaxBlockSizeInMB',\n 'HasMaxIter',\n 'HasPredictionCol',\n 'HasRegParam',\n 'HasSeed',\n 'HasSolver',\n 'HasStandardization',\n 'HasStepSize',\n 'HasTol',\n 'HasTrainingSummary',\n 'HasVarianceCol',\n 'HasWeightCol',\n 'IsotonicRegression',\n 'IsotonicRegressionModel',\n 'JavaEstimator',\n 'JavaMLReadable',\n 'JavaMLWritable',\n 'JavaModel',\n 'JavaPredictionModel',\n 'JavaPredictor',\n 'JavaWrapper',\n 'LinearRegression',\n 'LinearRegressionModel',\n 'LinearRegressionSummary',\n 'LinearRegressionTrainingSummary',\n 'Param',\n 'Params',\n 'PredictionModel',\n 'Predictor',\n 'RandomForestRegressionModel',\n 'RandomForestRegressor',\n 'RegressionModel',\n 'Regressor',\n 'TypeConverters',\n '_AFTSurvivalRegressionParams',\n '_DecisionTreeModel',\n '_DecisionTreeParams',\n '_DecisionTreeRegressorParams',\n '_FactorizationMachinesParams',\n '_GBTParams',\n '_GBTRegressorParams',\n '_GeneralizedLinearRegressionParams',\n '_IsotonicRegressionParams',\n '_JavaRegressionModel',\n '_JavaRegressor',\n '_LinearRegressionParams',\n '_PredictorParams',\n '_RandomForestParams',\n '_RandomForestRegressorParams',\n '_TreeEnsembleModel',\n '_TreeRegressorParams',\n '__all__',\n '__builtins__',\n '__cached__',\n '__doc__',\n '__file__',\n '__loader__',\n '__name__',\n '__package__',\n '__spec__',\n 'inherit_doc',\n 'keyword_only',\n 'since',\n 'sys']"
     },
     "execution_count": 28,
     "metadata": {},
     "output_type": "execute_result"
    }
   ],
   "source": [
    "dir(pyspark.ml.regression)\n",
    "dir(pyspark.ml.regression)"
   ],
   "metadata": {
    "collapsed": false,
    "pycharm": {
     "name": "#%%\n"
    }
   }
  },
  {
   "cell_type": "code",
   "execution_count": 29,
   "id": "703c0404",
   "metadata": {},
   "outputs": [],
   "source": [
    "from pyspark.ml.regression import LinearRegression"
   ]
  },
  {
   "cell_type": "code",
   "execution_count": 30,
   "id": "53932736",
   "metadata": {},
   "outputs": [],
   "source": [
    "reg = LinearRegression(labelCol=TARGET, featuresCol='features')"
   ]
  },
  {
   "cell_type": "code",
   "execution_count": 31,
   "id": "a11fe048",
   "metadata": {},
   "outputs": [
    {
     "name": "stderr",
     "output_type": "stream",
     "text": [
      "21/12/13 09:34:29 WARN Instrumentation: [c33069d2] regParam is zero, which might cause numerical instability and overfitting.\n",
      "21/12/13 09:34:32 WARN InstanceBuilder$NativeBLAS: Failed to load implementation from:dev.ludovic.netlib.blas.JNIBLAS\n",
      "21/12/13 09:34:33 WARN InstanceBuilder$NativeBLAS: Failed to load implementation from:dev.ludovic.netlib.blas.ForeignLinkerBLAS\n",
      "21/12/13 09:34:34 WARN InstanceBuilder$NativeLAPACK: Failed to load implementation from:dev.ludovic.netlib.lapack.JNILAPACK\n",
      "21/12/13 09:34:35 WARN Instrumentation: [c33069d2] Cholesky solver failed due to singular covariance matrix. Retrying with Quasi-Newton solver.\n",
      "21/12/13 09:34:36 WARN BLAS: Failed to load implementation from: com.github.fommil.netlib.NativeSystemBLAS\n",
      "21/12/13 09:34:36 WARN BLAS: Failed to load implementation from: com.github.fommil.netlib.NativeRefBLAS\n",
      "                                                                                \r"
     ]
    }
   ],
   "source": [
    "reg = reg.fit(train)"
   ]
  },
  {
   "cell_type": "code",
   "execution_count": 34,
   "id": "8dcf42b8",
   "metadata": {},
   "outputs": [],
   "source": [
    "predictions = reg.transform(train)"
   ]
  },
  {
   "cell_type": "code",
   "execution_count": 35,
   "id": "e6cf3fd8",
   "metadata": {},
   "outputs": [
    {
     "name": "stderr",
     "output_type": "stream",
     "text": [
      "[Stage 29:>                                                         (0 + 1) / 1]\r"
     ]
    },
    {
     "name": "stdout",
     "output_type": "stream",
     "text": [
      "+------------------+---------------+\n",
      "|        prediction|duration_listed|\n",
      "+------------------+---------------+\n",
      "|171.99966937750236|            172|\n",
      "|152.00043232862572|            152|\n",
      "| 61.00039985877073|             61|\n",
      "|228.00881627833198|            228|\n",
      "|21.004959882561277|             21|\n",
      "| 124.0051284774795|            124|\n",
      "|1181.9997296909503|           1182|\n",
      "|186.00255264048337|            186|\n",
      "|  118.998348281514|            119|\n",
      "|40.000285416312664|             40|\n",
      "|2078.9957483423136|           2079|\n",
      "| 4.998532476567573|              5|\n",
      "|11.005056153951378|             11|\n",
      "|265.00008605794403|            265|\n",
      "|154.00028038763838|            154|\n",
      "|  789.997760545205|            790|\n",
      "|  90.9983982943395|             91|\n",
      "| 7.998422849330582|              8|\n",
      "| 66.99337051761036|             67|\n",
      "|251.99684822765752|            252|\n",
      "+------------------+---------------+\n",
      "only showing top 20 rows\n",
      "\n"
     ]
    },
    {
     "name": "stderr",
     "output_type": "stream",
     "text": [
      "                                                                                \r"
     ]
    }
   ],
   "source": [
    "predictions.select('prediction', TARGET).show()"
   ]
  },
  {
   "cell_type": "code",
   "execution_count": 36,
   "id": "e3a825db",
   "metadata": {},
   "outputs": [],
   "source": [
    "from pyspark.ml.evaluation import RegressionEvaluator"
   ]
  },
  {
   "cell_type": "code",
   "execution_count": 37,
   "id": "76a5115a",
   "metadata": {},
   "outputs": [
    {
     "name": "stderr",
     "output_type": "stream",
     "text": [
      "[Stage 30:=============================>                            (1 + 1) / 2]\r"
     ]
    },
    {
     "name": "stdout",
     "output_type": "stream",
     "text": [
      "R2 on train data = 0.9999999943022991\n"
     ]
    },
    {
     "name": "stderr",
     "output_type": "stream",
     "text": [
      "                                                                                \r"
     ]
    }
   ],
   "source": [
    "lr_evaluator = RegressionEvaluator(\n",
    "    labelCol=TARGET, predictionCol=\"prediction\", metricName=\"r2\")\n",
    "r2 = lr_evaluator.evaluate(predictions)\n",
    "print(f'R2 on train data = {r2}')"
   ]
  },
  {
   "cell_type": "markdown",
   "id": "4ad3ffe8",
   "metadata": {},
   "source": [
    "# 6. Pipline"
   ]
  },
  {
   "attachments": {
    "Screenshot%202021-12-12%20at%202.24.36%20AM.png": {
     "image/png": "[encoded data removed]"
    }
   },
   "cell_type": "markdown",
   "id": "4cf6eca8",
   "metadata": {},
   "source": [
    "![Screenshot%202021-12-12%20at%202.24.36%20AM.png](attachment:Screenshot%202021-12-12%20at%202.24.36%20AM.png)"
   ]
  },
  {
   "cell_type": "code",
   "execution_count": 38,
   "id": "e0ae3a87",
   "metadata": {},
   "outputs": [],
   "source": [
    "from pyspark.ml import Pipeline\n",
    "\n",
    "from pyspark.ml.regression import GBTRegressor\n",
    "\n",
    "stages = []\n",
    "\n",
    "#depend on categorical columns: country and types of emission\n",
    "\n",
    "for categoricalCol in str_cols:\n",
    "    stringIndexer = StringIndexer(inputCol = categoricalCol,\n",
    "                                  outputCol = categoricalCol + '_Index', handleInvalid = 'keep')\n",
    "    encoder = OneHotEncoder(inputCol=stringIndexer.getOutputCol(),\n",
    "                            outputCol=categoricalCol + \"_classVec\")\n",
    "    stages.extend([stringIndexer, encoder])\n",
    "\n",
    "assemblerInputs = [c + \"_classVec\" for c in str_cols] + float_cols + int_cols\n",
    "\n",
    "# transfrom columns\n",
    "assembler = VectorAssembler(inputCols=assemblerInputs, outputCol=\"features\")\n",
    "stages.append(assembler)"
   ]
  },
  {
   "cell_type": "code",
   "execution_count": 39,
   "id": "97e2746c",
   "metadata": {},
   "outputs": [],
   "source": [
    "# train/test split (25% test)\n",
    "trainingData, testData = df_cars.randomSplit([0.75, 0.25])\n",
    "\n",
    "# Train Gradient Boosting on trees\n",
    "gbt = GBTRegressor(labelCol=TARGET, featuresCol=\"features\", maxIter=100)\n",
    "stages.append(gbt)"
   ]
  },
  {
   "cell_type": "code",
   "execution_count": 40,
   "id": "e3d6dd15",
   "metadata": {},
   "outputs": [],
   "source": [
    "# build pipline\n",
    "pipeline = Pipeline(stages=stages)"
   ]
  },
  {
   "cell_type": "code",
   "execution_count": 41,
   "id": "4e5c65a6",
   "metadata": {},
   "outputs": [
    {
     "data": {
      "text/plain": "{Param(parent='Pipeline_e48a9f83fae4', name='stages', doc='a list of pipeline stages'): [StringIndexer_75028316c10a,\n  OneHotEncoder_e8eb8d7d0208,\n  StringIndexer_a57dfa328cdb,\n  OneHotEncoder_b9bd11cf5b74,\n  StringIndexer_55c1d65eef99,\n  OneHotEncoder_daed2730b553,\n  StringIndexer_3a48b31a8129,\n  OneHotEncoder_0c71e099b4ae,\n  StringIndexer_bc49f9767605,\n  OneHotEncoder_508e6c2109de,\n  VectorAssembler_a92153f04556,\n  GBTRegressor_82d01005af6f]}"
     },
     "execution_count": 41,
     "metadata": {},
     "output_type": "execute_result"
    }
   ],
   "source": [
    "pipeline.extractParamMap()"
   ]
  },
  {
   "cell_type": "code",
   "execution_count": 42,
   "id": "0c1cfc67",
   "metadata": {},
   "outputs": [
    {
     "name": "stderr",
     "output_type": "stream",
     "text": [
      "                                                                                \r"
     ]
    }
   ],
   "source": [
    "# тренируем модель\n",
    "model = pipeline.fit(trainingData)"
   ]
  },
  {
   "cell_type": "code",
   "execution_count": 43,
   "id": "9e9d4816",
   "metadata": {},
   "outputs": [],
   "source": [
    "# делаем предсказания на тестовой выборке\n",
    "predictions = model.transform(testData)"
   ]
  },
  {
   "cell_type": "markdown",
   "id": "d0ac6cd4",
   "metadata": {},
   "source": [
    "# 7. Validating the model"
   ]
  },
  {
   "cell_type": "code",
   "execution_count": 44,
   "id": "fc1a4723",
   "metadata": {
    "scrolled": false
   },
   "outputs": [
    {
     "name": "stdout",
     "output_type": "stream",
     "text": [
      "+---------------+------------------+\n",
      "|duration_listed|        prediction|\n",
      "+---------------+------------------+\n",
      "|             61|56.655730313094544|\n",
      "|              4| 7.842711253774789|\n",
      "|            228| 315.5032535080454|\n",
      "|             21|32.275357676082386|\n",
      "|              5| 8.866510680077619|\n",
      "|            265| 802.4130740066757|\n",
      "|              8| 8.866510680077619|\n",
      "|             63| 71.09484842356053|\n",
      "|            252| 322.3089861038882|\n",
      "|             90| 89.70395596333664|\n",
      "|             43| 40.32774543866011|\n",
      "|             81| 79.01846394233387|\n",
      "|             92| 89.68249438734743|\n",
      "|             36| 39.58584747699532|\n",
      "|            121|122.28051140789209|\n",
      "|            188|186.34825542857732|\n",
      "|             25| 26.46774537831986|\n",
      "|             58| 56.63426873710533|\n",
      "|            100|107.07030157462191|\n",
      "|            208|231.91639673468654|\n",
      "+---------------+------------------+\n",
      "only showing top 20 rows\n",
      "\n"
     ]
    }
   ],
   "source": [
    "predictions.select(TARGET, \"prediction\").show()"
   ]
  },
  {
   "cell_type": "code",
   "execution_count": 58,
   "id": "6983a761",
   "metadata": {},
   "outputs": [
    {
     "name": "stderr",
     "output_type": "stream",
     "text": [
      "\r",
      "[Stage 1057:>                                                       (0 + 1) / 1]\r"
     ]
    },
    {
     "name": "stdout",
     "output_type": "stream",
     "text": [
      "R2 on test data = 0.74\n"
     ]
    },
    {
     "name": "stderr",
     "output_type": "stream",
     "text": [
      "\r",
      "                                                                                \r"
     ]
    }
   ],
   "source": [
    "gbt_evaluator = RegressionEvaluator(\n",
    "    labelCol=TARGET, predictionCol=\"prediction\", metricName=\"r2\")\n",
    "r2 = gbt_evaluator.evaluate(predictions)\n",
    "print(f\"R2 on test data = {r2:.2f}\")"
   ]
  },
  {
   "cell_type": "markdown",
   "id": "c189c33e",
   "metadata": {},
   "source": [
    "# 8. Save model"
   ]
  },
  {
   "cell_type": "code",
   "execution_count": 60,
   "id": "6690f38a",
   "metadata": {},
   "outputs": [],
   "source": [
    "model.save('model_GBT')"
   ]
  },
  {
   "cell_type": "code",
   "execution_count": 45,
   "id": "386f0b8d",
   "metadata": {},
   "outputs": [],
   "source": [
    "spark.stop()"
   ]
  },
  {
   "cell_type": "markdown",
   "id": "77eb5d75",
   "metadata": {},
   "source": [
    "---"
   ]
  }
 ],
 "metadata": {
  "kernelspec": {
   "display_name": "Python 3 (ipykernel)",
   "language": "python",
   "name": "python3"
  },
  "language_info": {
   "codemirror_mode": {
    "name": "ipython",
    "version": 3
   },
   "file_extension": ".py",
   "mimetype": "text/x-python",
   "name": "python",
   "nbconvert_exporter": "python",
   "pygments_lexer": "ipython3",
   "version": "3.10.0"
  }
 },
 "nbformat": 4,
 "nbformat_minor": 5
}