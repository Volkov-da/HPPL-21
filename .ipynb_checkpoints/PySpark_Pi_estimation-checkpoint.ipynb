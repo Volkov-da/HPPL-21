{
 "cells": [
  {
   "cell_type": "code",
   "execution_count": 5,
   "id": "4de6ab0e",
   "metadata": {},
   "outputs": [
    {
     "name": "stdout",
     "output_type": "stream",
     "text": [
      "49.58 seconds elapsed for naive method and n=100000000\n",
      "pi is roughly 3.14161712\n"
     ]
    }
   ],
   "source": [
    "import numpy as np\n",
    "from time import time\n",
    "from random import random\n",
    "\n",
    "inside = 0\n",
    "n = 100000000\n",
    "\n",
    "t_0 = time()\n",
    "for i in range(n):\n",
    "    x, y = random(), random()\n",
    "    if x**2 + y**2 < 1:\n",
    "        inside += 1\n",
    "print(f'{time() - t_0:.2f} seconds elapsed for naive method and n={n}')\n",
    "print(\"pi is roughly\", inside/n*4)"
   ]
  },
  {
   "cell_type": "code",
   "execution_count": 6,
   "id": "7bb2a890",
   "metadata": {},
   "outputs": [
    {
     "name": "stderr",
     "output_type": "stream",
     "text": [
      "                                                                                \r"
     ]
    },
    {
     "name": "stdout",
     "output_type": "stream",
     "text": [
      "101.29 seconds elapsed for PySpark method and n=100000000\n",
      "Pi is roughly 3.1415\n"
     ]
    }
   ],
   "source": [
    "from pyspark.sql import SparkSession\n",
    "\n",
    "spark = SparkSession.builder.appName('CalculatePi').master(\"local[4]\").getOrCreate()\n",
    "sc = spark.sparkContext\n",
    "\n",
    "t_0 = time()\n",
    "def inside(p):\n",
    "    x, y = np.random.random(), np.random.random()\n",
    "    return x * x + y * y < 1\n",
    "\n",
    "count = sc.parallelize(range(0, n)) \\\n",
    "             .filter(inside).count()\n",
    "\n",
    "print(f'{time() - t_0:.2f} seconds elapsed for PySpark method and n={n}')\n",
    "print(f\"Pi is roughly {(4.0 * count / n):.4f}\")\n",
    "\n",
    "\n",
    "sc.stop()"
   ]
  },
  {
   "cell_type": "code",
   "execution_count": 3,
   "id": "734d422d",
   "metadata": {},
   "outputs": [
    {
     "name": "stderr",
     "output_type": "stream",
     "text": [
      "                                                                                \r"
     ]
    },
    {
     "name": "stdout",
     "output_type": "stream",
     "text": [
      "9.73 seconds elapsed for PySpark method and n=10000000\n",
      "Pi is roughly 3.1422\n"
     ]
    }
   ],
   "source": [
    "from pyspark.sql import SparkSession\n",
    "\n",
    "spark = SparkSession.builder.appName('CalculatePi').master(\"local[3]\").getOrCreate()\n",
    "sc = spark.sparkContext\n",
    "\n",
    "t_0 = time()\n",
    "def inside(p):\n",
    "    x, y = np.random.random(), np.random.random()\n",
    "    return x * x + y * y < 1\n",
    "\n",
    "count = sc.parallelize(range(0, n)) \\\n",
    "             .filter(inside).count()\n",
    "\n",
    "print(f'{time() - t_0:.2f} seconds elapsed for PySpark method and n={n}')\n",
    "print(f\"Pi is roughly {(4.0 * count / n):.4f}\")\n",
    "\n",
    "\n",
    "sc.stop()"
   ]
  },
  {
   "cell_type": "code",
   "execution_count": 4,
   "id": "1d1665a6",
   "metadata": {},
   "outputs": [
    {
     "name": "stderr",
     "output_type": "stream",
     "text": [
      "                                                                                \r"
     ]
    },
    {
     "name": "stdout",
     "output_type": "stream",
     "text": [
      "9.31 seconds elapsed for PySpark method and n=10000000\n",
      "Pi is roughly 3.1415\n"
     ]
    }
   ],
   "source": [
    "spark = SparkSession.builder.appName('CalculatePi').master(\"local[2]\").getOrCreate()\n",
    "sc = spark.sparkContext\n",
    "\n",
    "t_0 = time()\n",
    "def inside(p):\n",
    "    x, y = np.random.random(), np.random.random()\n",
    "    return x * x + y * y < 1\n",
    "\n",
    "count = sc.parallelize(range(0, n)) \\\n",
    "             .filter(inside).count()\n",
    "\n",
    "print(f'{time() - t_0:.2f} seconds elapsed for PySpark method and n={n}')\n",
    "print(f\"Pi is roughly {(4.0 * count / n):.4f}\")\n",
    "\n",
    "\n",
    "sc.stop()"
   ]
  },
  {
   "cell_type": "code",
   "execution_count": null,
   "id": "9de08691",
   "metadata": {},
   "outputs": [],
   "source": []
  }
 ],
 "metadata": {
  "kernelspec": {
   "display_name": "Python 3 (ipykernel)",
   "language": "python",
   "name": "python3"
  },
  "language_info": {
   "codemirror_mode": {
    "name": "ipython",
    "version": 3
   },
   "file_extension": ".py",
   "mimetype": "text/x-python",
   "name": "python",
   "nbconvert_exporter": "python",
   "pygments_lexer": "ipython3",
   "version": "3.10.0"
  }
 },
 "nbformat": 4,
 "nbformat_minor": 5
}
